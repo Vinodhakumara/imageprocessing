{
 "cells": [
  {
   "cell_type": "code",
   "execution_count": 1,
   "metadata": {},
   "outputs": [],
   "source": [
    "# Capture a photo\n",
    "import cv2                  # OpenCV Module\n",
    "cap = cv2.VideoCapture(0)   # Start WebCam, 0 means internal first webcam\n",
    "result , myImg= cap.read()  # Capture photo\n",
    "cap.release()               # Release webCam\n",
    "cv2.imwrite('myPic.jpeg',myImg)  # stores in a file\n",
    "# Show Image\n",
    "cv2.imshow('MyImage',myImg) \n",
    "cv2.waitKey() # used to set the expiry time for the picture to be\n",
    "cv2.destroyAllWindows() #used to destroy or close the picture window without crashing it"
   ]
  },
  {
   "cell_type": "code",
   "execution_count": 2,
   "metadata": {},
   "outputs": [
    {
     "data": {
      "text/plain": [
       "(None, 13, None)"
      ]
     },
     "execution_count": 2,
     "metadata": {},
     "output_type": "execute_result"
    }
   ],
   "source": [
    "# Create a Own Image\n",
    "import cv2\n",
    "import numpy as np\n",
    "\n",
    "show_image = lambda label, photo : (cv2.imshow(label,photo), cv2.waitKey(0), cv2.destroyAllWindows()) # Show Image\n",
    "\n",
    "img1 = np.zeros([600,800,3], dtype=np.uint8)\n",
    "img1[:]=[0,0,0]\n",
    "show_image(\"Empty Image\", img1)\n",
    "cv2.circle(img1 , (0,0) ,100,  [64,128,255], 2)\n",
    "cv2.circle(img1 , (50,50) ,200,  [64,148,255], 2)\n",
    "cv2.circle(img1 , (100,100) ,300,  [64,168,255], 2)\n",
    "cv2.circle(img1 , (150,150) ,400,  [64,188,255], 2)\n",
    "cv2.circle(img1 , (200,200) ,500,  [64,208,255], 2)\n",
    "cv2.circle(img1 , (250,250) ,600,  [64,228,255], 2)\n",
    "cv2.circle(img1 , (300,300) ,700,  [64,248,255], 2)\n",
    "\n",
    "cv2.circle(img1 , (0,0) ,700,  [64,128,255], 2)\n",
    "cv2.circle(img1 , (50,50) ,600,  [64,148,255], 2)\n",
    "cv2.circle(img1 , (100,100) ,500,  [64,168,255], 2)\n",
    "cv2.circle(img1 , (150,150) ,400,  [64,188,255], 2)\n",
    "cv2.circle(img1 , (200,200) ,300,  [64,208,255], 2)\n",
    "cv2.circle(img1 , (250,250) ,200,  [64,228,255], 2)\n",
    "cv2.circle(img1 , (300,300) ,100,  [64,248,255], 2)\n",
    "newImg = cv2.resize(img1, (850, 650))  # Resize using rows and columns\n",
    "\n",
    "# First Image\n",
    "show_image(\"Created Image\", newImg)"
   ]
  },
  {
   "cell_type": "code",
   "execution_count": 3,
   "metadata": {},
   "outputs": [],
   "source": [
    "# Crop and Swap faces\n",
    "\n",
    "import cv2 \n",
    "import numpy\n",
    "# Load Images\n",
    "photo1 = cv2.imread(\"temp.jpeg\")\n",
    "photo2 = cv2.imread(\"Vinu.jpeg\")\n",
    "temp = cv2.imread(\"temp.jpeg\")\n",
    "\n",
    "show_image = lambda label, photo : (cv2.imshow(label,photo), cv2.waitKey(), cv2.destroyAllWindows()) # Show Image\n",
    "\n",
    "def swap_image(photo1,photo2,temp): # Swap Images\n",
    "    photo1[y1:y2,x1:x2] = photo2[y1:y2,x1:x2] \n",
    "    photo2[y1:y2,x1:x2] = temp[y1:y2,x1:x2] \n",
    "    return photo1,photo2\n",
    "\n",
    "face_model= cv2.CascadeClassifier('haarcascade_frontalface_default.xml') # Load Face detection Model\n",
    "faces = face_model.detectMultiScale(photo1)  # Detect face\n",
    "if len(faces) != 0: # Run only when face is detected\n",
    "    x1,y1,x2,y2 = faces[0][0],faces[0][1],faces[0][2]+faces[0][0],faces[0][3]+faces[0][1] # Take edges\n",
    "    draw_rect = lambda photo : cv2.rectangle(photo,(x1,y1),(x2,y2),[0,255,0],2)  # Draw Rectancle to face\n",
    "    # Draw boxes surrounding Face\n",
    "    photo1 = draw_rect(photo1)   \n",
    "    photo2 = draw_rect(photo2)\n",
    "    # Before Swappig\n",
    "    show_image('Before photo1',photo1)\n",
    "    show_image(\"Before photo2\",photo2)\n",
    "    photo1, photo2 = swap_image(photo1,photo2,temp)  # Crop and Swap Faces\n",
    "    # After Swappig\n",
    "    show_image('After photo1',photo1)\n",
    "    show_image(\"After photo2\",photo2)"
   ]
  },
  {
   "cell_type": "code",
   "execution_count": 4,
   "metadata": {},
   "outputs": [
    {
     "data": {
      "text/plain": [
       "(None, 13, None)"
      ]
     },
     "execution_count": 4,
     "metadata": {},
     "output_type": "execute_result"
    }
   ],
   "source": [
    "# Collage all images\n",
    "import numpy\n",
    "import cv2\n",
    "\n",
    "show_image = lambda label, photo : (cv2.imshow(label,photo), cv2.waitKey(), cv2.destroyAllWindows()) # Show Image\n",
    "\n",
    "# Load Images\n",
    "img1 = cv2.imread(\"temp.jpeg\")\n",
    "img2 = cv2.imread(\"Vinu.jpeg\")\n",
    "\n",
    "# Show Images Before Collage\n",
    "show_image(\"First Image\",img1)\n",
    "show_image(\"Second Image\",img2)\n",
    "\n",
    "ims = cv2.resize(img1,(700,400))  # Resize Image\n",
    "vImg = numpy.vstack((img1,img2))  # Vertical Collage\n",
    "show_image(\"Vartical collage Image\",vImg) # Show Vertical Collage Image\n",
    "\n",
    "ims = cv2.resize(img1,(700,400)) # Resize Image\n",
    "hImg = numpy.hstack((img1,img2)) # Horizontal Image\n",
    "show_image(\"Horizontal collage Image\",hImg) # Show Horizontal Collage Image\n",
    "\n",
    "vIms = cv2.resize(hImg,(700,400))  # Resize Image\n",
    "collage = numpy.vstack((vIms,ims)) # Collage all\n",
    "\n",
    "show_image(\"Final Collage\",collage) # Show Final Collage Image"
   ]
  },
  {
   "cell_type": "code",
   "execution_count": 5,
   "metadata": {},
   "outputs": [],
   "source": [
    "# Task 4.1\n",
    "\n",
    "import cv2\n",
    "import numpy\n",
    "img1 = numpy.zeros([800,600,3], dtype=np.uint8)\n",
    "img1[:]=[255,255,255]\n",
    "img2 = numpy.zeros([800,600,3], dtype=np.uint8)\n",
    "img2[:]=[125,128,255]\n",
    "\n",
    "cv2.circle(img2 , (150,250) ,80,  [64,248,255], 2)\n",
    "img3 = numpy.zeros([800,600,3], dtype=np.uint8)\n",
    "img3[:]=[64,64,255]\n",
    "cv2.circle(img3 , (450,250) ,80,  [64,248,255], 2)\n",
    "\n",
    "img4 = numpy.zeros([800,600,3], dtype=np.uint8)\n",
    "img4[:]=[64,128,64]\n",
    "img5 = numpy.zeros([800,600,3], dtype=np.uint8)\n",
    "img5[:]=[90,59,130]\n",
    "\n",
    "img1[5:250,5:300] = img2[5:250,5:300]\n",
    "img1[5:250, 310:-5] = img3[5:250, 310:-5]\n",
    "img1[260:500,210:-210] = img4[260:500,210:-210]\n",
    "img1[510:-100,5:-5] = img5[510:-100,5:-5]"
   ]
  },
  {
   "cell_type": "code",
   "execution_count": 6,
   "metadata": {},
   "outputs": [],
   "source": [
    "img4 = numpy.zeros([800,600,3], dtype=np.uint8)\n",
    "img4[:]=[90,59,130]\n",
    "cv2.imshow('mypic',img1)\n",
    "cv2.waitKey()\n",
    "cv2.destroyAllWindows()"
   ]
  },
  {
   "cell_type": "code",
   "execution_count": 7,
   "metadata": {},
   "outputs": [],
   "source": [
    "# Video Capture....\n",
    "import cv2\n",
    "cap = cv2.VideoCapture(0)  #Use Internal WebCam\n",
    "while True:  # While loop to capture all images n make live video\n",
    "    result , photo = cap.read()  #Capture Image\n",
    "    cphoto = cv2.cvtColor(photo,cv2.COLOR_BGR2GRAY) # Change to Gray color\n",
    "    cv2.imshow('mypic',cphoto) # Show frames\n",
    "    if cv2.waitKey(10) == 13: # when we press ENTER key(13) window will close\n",
    "        break # Stop Video\n",
    "cv2.destroyAllWindows() # Destroy all windows\n",
    "cap.release() # Stop capturing"
   ]
  },
  {
   "cell_type": "code",
   "execution_count": 8,
   "metadata": {},
   "outputs": [
    {
     "name": "stdout",
     "output_type": "stream",
     "text": [
      "Face Found!\n"
     ]
    }
   ],
   "source": [
    "# Detect Face through Image\n",
    "import cv2\n",
    "face_model= cv2.CascadeClassifier('haarcascade_frontalface_default.xml') # Load Model\n",
    "show_image = lambda label, photo : (cv2.imshow(label,photo), cv2.waitKey(0), cv2.destroyAllWindows()) # Show Image\n",
    "\n",
    "#cv2.imshow('mypic',detect_img(photo)) # Show Image\n",
    "#cv2.waitKey(0) # window will close when press on cross(X)\n",
    "#cv2.destroyAllWindows() # Destroy all windows\n",
    "\n",
    "cap = cv2.VideoCapture(0) #Use Internal WebCam\n",
    "result , photo = cap.read() # Capture\n",
    "cap.release()  # Stop capturing\n",
    "faces = face_model.detectMultiScale(photo) # Detect Face\n",
    "\n",
    "if len(faces) != 0: # Only if face found tag on face\n",
    "    x1,y1,x2,y2 = faces[0][0],faces[0][1],faces[0][2]+faces[0][0],faces[0][3]+faces[0][1] #Give edges\n",
    "    detect_img = lambda photo : cv2.rectangle(photo,(x1,y1),(x2,y2),[0,255,0],2)  # Draw Rectancle to face\n",
    "    detected_img = detect_img(photo) # Call function to detect_imgage\n",
    "    \n",
    "show_image(\"Detected Face!\",detected_img) # call function to Show Image\n",
    "cv2.destroyAllWindows()\n",
    "\n",
    "# Detect Face through live  Video\n",
    "cap = cv2.VideoCapture(0)\n",
    "while True:\n",
    "    result , photo2 = cap.read()\n",
    "    faces = face_model.detectMultiScale(photo2)\n",
    "    if len(faces) != 0:\n",
    "        x1,y1,x2,y2 = faces[0][0],faces[0][1],faces[0][2],faces[0][3]\n",
    "        detected_img = detect_img(photo) # Call function to detect_imgage\n",
    "    if cv2.waitKey(10) == 13 or len(faces) >= 1:\n",
    "        print(\"Face Found!\")\n",
    "        crop_img = photo2[y1:y1+y2,x1:x1+x2]\n",
    "        show_image(\"Detected Face!\",crop_img)\n",
    "        cap.release()\n",
    "        break\n",
    "cv2.destroyAllWindows()"
   ]
  },
  {
   "cell_type": "code",
   "execution_count": 9,
   "metadata": {},
   "outputs": [
    {
     "data": {
      "text/plain": [
       "(None, 13, None)"
      ]
     },
     "execution_count": 9,
     "metadata": {},
     "output_type": "execute_result"
    }
   ],
   "source": [
    "# Resize a Image Size\n",
    "import cv2\n",
    "\n",
    "show_image = lambda label, photo : (cv2.imshow(label,photo), cv2.waitKey(0), cv2.destroyAllWindows()) # Show Image\n",
    "\n",
    "img = cv2.imread(\"Vinu.jpeg\") # Read a Image\n",
    "show_image(\"Before Resize of image\",img) # Show Image before Resize\n",
    "newImg = cv2.resize(img, (0,0), fx=0.35, fy=0.35) # Resize X = 0.35 and Y = 35\n",
    "show_image(\"After Resize of image\",newImg)  # reSize of image\n",
    "\n",
    "# Resize Image Using rows and columns\n",
    "newImg = cv2.resize(img, (350, 550))  # Resize using rows and columns\n",
    "show_image(\"Using rows and columns Resized\", newImg)"
   ]
  },
  {
   "cell_type": "code",
   "execution_count": 12,
   "metadata": {},
   "outputs": [
    {
     "data": {
      "text/plain": [
       "(None, 13, None)"
      ]
     },
     "execution_count": 12,
     "metadata": {},
     "output_type": "execute_result"
    }
   ],
   "source": [
    "# Change Color\n",
    "import cv2\n",
    "\n",
    "show_image = lambda label, photo : (cv2.imshow(label,photo), cv2.waitKey(0), cv2.destroyAllWindows()) # Show Image\n",
    "\n",
    "img1 = cv2.imread(\"Vinu.jpeg\", 0)\n",
    "show_image(\"Method1\",img1)\n",
    "img2 = cv2.imread(\"Vinu.jpeg\")\n",
    "img2 = cv2.cvtColor(img2,cv2.COLOR_BGR2GRAY)\n",
    "show_image('Method2',img2)"
   ]
  },
  {
   "cell_type": "code",
   "execution_count": null,
   "metadata": {},
   "outputs": [],
   "source": [
    "\n"
   ]
  }
 ],
 "metadata": {
  "kernelspec": {
   "display_name": "Python 3",
   "language": "python",
   "name": "python3"
  },
  "language_info": {
   "codemirror_mode": {
    "name": "ipython",
    "version": 3
   },
   "file_extension": ".py",
   "mimetype": "text/x-python",
   "name": "python",
   "nbconvert_exporter": "python",
   "pygments_lexer": "ipython3",
   "version": "3.7.4"
  }
 },
 "nbformat": 4,
 "nbformat_minor": 2
}
